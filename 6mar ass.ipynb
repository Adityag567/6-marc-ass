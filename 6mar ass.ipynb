{
 "cells": [
  {
   "cell_type": "code",
   "execution_count": null,
   "id": "c833d97d-a9ee-47de-8458-8ba6a3face15",
   "metadata": {},
   "outputs": [],
   "source": [
    "Q1. What is Statistics?"
   ]
  },
  {
   "cell_type": "code",
   "execution_count": null,
   "id": "203ac719-1043-4f2e-9212-c0d5e321ed32",
   "metadata": {},
   "outputs": [],
   "source": [
    "it is a science of collection , organizing and analyzing dat"
   ]
  },
  {
   "cell_type": "code",
   "execution_count": null,
   "id": "ea2ee03d-5159-4514-b455-d6b792113cc4",
   "metadata": {},
   "outputs": [],
   "source": [
    "Q2. Define the different types of statistics and give an example of when each type might be used."
   ]
  },
  {
   "cell_type": "code",
   "execution_count": null,
   "id": "f0e8f4ae-81a9-42bd-8a08-6c219a049db9",
   "metadata": {},
   "outputs": [],
   "source": [
    "two types of data \n",
    "a.Discription\n",
    "b.Inferential\n",
    "\n",
    "a.consist of organizing and summarizing of data\n",
    "b.consist ofusing data you have to measure  otform conclusion"
   ]
  },
  {
   "cell_type": "code",
   "execution_count": null,
   "id": "bdc5c045-6583-46fb-bc5d-5c3b71029ccc",
   "metadata": {},
   "outputs": [],
   "source": [
    "Q3. What are the different types of data and how do they differ from each other? Provide an example of\n",
    "each type of data."
   ]
  },
  {
   "cell_type": "code",
   "execution_count": null,
   "id": "54cd57de-2d32-4337-bf09-d227c3136f1d",
   "metadata": {},
   "outputs": [],
   "source": [
    "there are 2 different typesof how they different\n",
    "1.Qualitative it is catagorical data\n",
    "it has 2 types are\n",
    "1.Nominal scale = order not matter,\n",
    "\n",
    "2.ordinal scale = Ranking is imp,order matter, differentcan't measure\n",
    "\n",
    "\n",
    "2.Quantitative it is aptitude like add, subs, multip,\n",
    "it has also 2 types\n",
    "1.interval scale = the order matter, differences can't measure,ratio can't mesure,No o starting point\n",
    "2.Ratio scale = order matters,different measurable,o starting point\n",
    "\n"
   ]
  },
  {
   "cell_type": "code",
   "execution_count": null,
   "id": "af04e4f0-99c3-4def-9611-3e4ba28cbaad",
   "metadata": {},
   "outputs": [],
   "source": [
    "Q4. Categorise the following datasets with respect to quantitative and qualitative data types:\n",
    "(i) Grading in exam: A+, A, B+, B, C+, C, D, E\n",
    "(ii) Colour of mangoes: yellow, green, orange, red\n",
    "(iii) Height data of a class: [178.9, 179, 179.5, 176, 177.2, 178.3, 175.8,...]\n",
    "(iv) Number of mangoes exported by a farm: [500, 600, 478, 672, ...]"
   ]
  },
  {
   "cell_type": "code",
   "execution_count": null,
   "id": "3cae258d-23a1-465d-835c-ce0e7fa075d1",
   "metadata": {},
   "outputs": [],
   "source": [
    "1.Qualitative data\n",
    "2.Qualitative data\n",
    "3.Quantitative data continues\n",
    "4.Quantitative data"
   ]
  },
  {
   "cell_type": "code",
   "execution_count": null,
   "id": "eb122f3c-53a0-4aeb-9c45-116b96ce1f0b",
   "metadata": {},
   "outputs": [],
   "source": [
    "Q5. Explain the concept of levels of measurement and give an example of a variable for each level."
   ]
  },
  {
   "cell_type": "code",
   "execution_count": null,
   "id": "0d2b1fd4-f892-4525-b2da-e25be08d8414",
   "metadata": {},
   "outputs": [],
   "source": [
    "Levels of measurement, also called scales of measurement, tell you how precisely variables are recorded. In scientific research, a variable is anything that can take on different values across your data set (e.g., height or test scores).\n",
    "\n",
    "There are 4 levels of measurement:\n",
    "\n",
    "Nominal: the data can only be categorized\n",
    "Ordinal: the data can be categorized and ranked\n",
    "Interval: the data can be categorized, ranked, and evenly spaced\n",
    "Ratio: the data can be categorized, ranked, evenly spaced, and has a natural zero.\n",
    "Depending on the level of measurement of the variable, what you can do to analyze your data may be limited. There is a hierarchy in the complexity and precision of the level of measurement, from low (nominal) to high (ratio)."
   ]
  },
  {
   "cell_type": "code",
   "execution_count": null,
   "id": "174e82e2-781a-4c3e-8ae9-393c24e0e24d",
   "metadata": {},
   "outputs": [],
   "source": [
    "Q6. Why is it important to understand the level of measurement when analyzing data? Provide an\n",
    "example to illustrate your answer."
   ]
  },
  {
   "cell_type": "code",
   "execution_count": null,
   "id": "7dca562d-5e8e-4b40-885e-819ccb7941dc",
   "metadata": {},
   "outputs": [],
   "source": [
    "Level of measurement, also known as scale of measurement, refers to the process of categorizing data based on the characteristics and properties of the data. It's important in statistics because it helps determine the appropriate statistical methods and tests that can be used to analyze the data."
   ]
  },
  {
   "cell_type": "code",
   "execution_count": null,
   "id": "94fec7cf-0f3a-4131-953e-aa56438f91b8",
   "metadata": {},
   "outputs": [],
   "source": [
    "Q7. How nominal data type is different from ordinal data type."
   ]
  },
  {
   "cell_type": "code",
   "execution_count": null,
   "id": "9d7ae848-dbca-4bae-aff0-3af2e9a6763e",
   "metadata": {},
   "outputs": [],
   "source": [
    "The main differences between Nominal Data and Ordinal Data are: While Nominal Data is classified without any intrinsic ordering or rank, Ordinal Data has some predetermined or natural order. Nominal data is qualitative or categorical data, while Ordinal data is considered “in-between” qualitative and quantitative data\n"
   ]
  },
  {
   "cell_type": "code",
   "execution_count": null,
   "id": "76fd6db6-594f-4988-a56e-f0093f1ce27c",
   "metadata": {},
   "outputs": [],
   "source": [
    "Q8. Which type of plot can be used to display data in terms of range?"
   ]
  },
  {
   "cell_type": "code",
   "execution_count": null,
   "id": "3b29ef9d-fa88-4968-82a6-117314ac4ef9",
   "metadata": {},
   "outputs": [],
   "source": [
    "A range plot sometimes looks like a bar chart. The difference is that a range plot shows two values of a category, instead of just one. "
   ]
  },
  {
   "cell_type": "code",
   "execution_count": null,
   "id": "e51134d8-4578-44e9-b10d-190fa47e5271",
   "metadata": {},
   "outputs": [],
   "source": [
    "Q9. Describe the difference between descriptive and inferential statistics. Give an example of each\n",
    "type of statistics and explain how they are used."
   ]
  },
  {
   "cell_type": "code",
   "execution_count": null,
   "id": "4239ef6f-39b0-47ee-8727-f193b348715f",
   "metadata": {},
   "outputs": [],
   "source": [
    "While descriptive statistics summarize the characteristics of a data set, inferential statistics help you come to conclusions and make predictions based on your data. When you have collected data from a sample, you can use inferential statistics to understand the larger population from which the sample is taken."
   ]
  },
  {
   "cell_type": "code",
   "execution_count": null,
   "id": "e9a8264a-7f37-4d07-914b-599d671fb9ab",
   "metadata": {},
   "outputs": [],
   "source": [
    "Q10. What are some common measures of central tendency and variability used in statistics? Explain\n",
    "how each measure can be used to describe a dataset."
   ]
  },
  {
   "cell_type": "code",
   "execution_count": null,
   "id": "9e057c38-7ba5-42c4-a99c-80406e0c2273",
   "metadata": {},
   "outputs": [],
   "source": [
    "The three commonly used measures of central tendency are the mean, median, and mode. A statistic that tells us how the data values are dispersed or spread out is called the measure of dispersion. A simple measure of dispersion is the range."
   ]
  },
  {
   "cell_type": "code",
   "execution_count": null,
   "id": "d91a56c8-6d37-4866-99e5-11b5da434076",
   "metadata": {},
   "outputs": [],
   "source": []
  },
  {
   "cell_type": "code",
   "execution_count": null,
   "id": "ac278082-c94a-4d10-8d1c-1a4cecd4fd78",
   "metadata": {},
   "outputs": [],
   "source": []
  },
  {
   "cell_type": "code",
   "execution_count": null,
   "id": "53a0cf07-7b3c-4237-9e22-f73887c25009",
   "metadata": {},
   "outputs": [],
   "source": []
  }
 ],
 "metadata": {
  "kernelspec": {
   "display_name": "Python 3 (ipykernel)",
   "language": "python",
   "name": "python3"
  },
  "language_info": {
   "codemirror_mode": {
    "name": "ipython",
    "version": 3
   },
   "file_extension": ".py",
   "mimetype": "text/x-python",
   "name": "python",
   "nbconvert_exporter": "python",
   "pygments_lexer": "ipython3",
   "version": "3.10.8"
  }
 },
 "nbformat": 4,
 "nbformat_minor": 5
}
